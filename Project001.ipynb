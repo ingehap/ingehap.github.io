{
 "cells": [
  {
   "cell_type": "markdown",
   "id": "330017c9-1fcc-4904-a308-5d6485b6234f",
   "metadata": {},
   "source": [
    "# Project001 - SR learning"
   ]
  },
  {
   "cell_type": "markdown",
   "id": "42923f4e-13ff-4c63-a0b4-a4abfac37c07",
   "metadata": {},
   "source": [
    "## 1. Basic info\n",
    "\n",
    "Name = Symbolic Regression (SR) learning<br>\n",
    "Started = Tuesday, 11th April 2023<br>\n",
    "Data = <a href=\"https://drive.google.com/drive/folders/1ES-VI-xqjHgKFFS586iRIitJM9c9Zmhd\">Mr Anisotropy database</a> <br>\n",
    "Python libraries:<br>\n",
    "\n",
    "| Environment     | GitHub link                                                                              | Comments                                   |\n",
    "| --------------- |------------------------------------------------------------------------------------------| -------------------------------------------|\n",
    "| base            | -                                                                                        | -                                          |\n",
    "| pmlb            | [https://github.com/EpistasisLab/pmlb](https://github.com/EpistasisLab/pmlb)             | benchmark dataset of supervised algorithms |\n",
    "| pysr            | [https://github.com/MilesCranmer/PySR](https://github.com/MilesCranmer/PySR)             | [demo](https://colab.research.google.com/github/MilesCranmer/PySR/blob/master/examples/pysr_demo.ipynb)                                 |\n",
    "| srbench         | [https://github.com/cavalab/srbench](https://github.com/cavalab/srbench)                 | SR benchmark                               |\n",
    "| ydata-profiling | [https://github.com/ydataai/ydata-profiling](https://github.com/ydataai/ydata-profiling) | html reports from a DataFrame              |\n"
   ]
  },
  {
   "cell_type": "markdown",
   "id": "52559ebb-3f3c-48d8-83b0-0f2878716b70",
   "metadata": {},
   "source": [
    "## 2. Resources\n",
    "\n",
    "### 2.1 General\n",
    "[Conda official reference](https://docs.conda.io/en/latest/index.html) <br>\n",
    "[Markdown Cheatsheet, Adam Pritchard](https://github.com/adam-p/markdown-here/wiki/Markdown-Cheatsheet) <br>\n",
    "[Overleaf](https://www.overleaf.com/) <br>\n",
    "[PyPI Search](https://pypi.org/)\n",
    "\n",
    "### 2.2 PySR specific resources\n",
    "[PySR at astroautomata](https://astroautomata.com/PySR/)"
   ]
  },
  {
   "cell_type": "code",
   "execution_count": null,
   "id": "f05b8bb0-ddd4-4eda-b40c-ba3bdb3db189",
   "metadata": {},
   "outputs": [],
   "source": []
  }
 ],
 "metadata": {
  "kernelspec": {
   "display_name": "Python 3 (ipykernel)",
   "language": "python",
   "name": "python3"
  },
  "language_info": {
   "codemirror_mode": {
    "name": "ipython",
    "version": 3
   },
   "file_extension": ".py",
   "mimetype": "text/x-python",
   "name": "python",
   "nbconvert_exporter": "python",
   "pygments_lexer": "ipython3",
   "version": "3.9.13"
  }
 },
 "nbformat": 4,
 "nbformat_minor": 5
}
